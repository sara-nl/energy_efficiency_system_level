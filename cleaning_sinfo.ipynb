{
 "cells": [
  {
   "cell_type": "code",
   "execution_count": 6,
   "metadata": {},
   "outputs": [],
   "source": [
    "import pandas as pd\n",
    "from pathlib import Path\n",
    "import matplotlib.pyplot as plt\n",
    "import seaborn as sns\n",
    "import numpy as np\n",
    "from multiprocessing import Pool\n",
    "import time\n",
    "from tqdm.notebook import tqdm\n",
    "from utils import format_node_names"
   ]
  },
  {
   "cell_type": "code",
   "execution_count": 7,
   "metadata": {},
   "outputs": [
    {
     "data": {
      "text/plain": [
       "[PosixPath('/projects/2/prjs1098/system_analytics_2024/slurm_data/system_states_90.txt')]"
      ]
     },
     "execution_count": 7,
     "metadata": {},
     "output_type": "execute_result"
    }
   ],
   "source": [
    "pd.set_option('display.max_columns', None)\n",
    "pd.set_option('display.max_rows', None)\n",
    "pd.options.display.precision = 4 # show 4 digits precision\n",
    "folder_path_slurm_data = Path('/projects/2/prjs1098/system_analytics_2024/slurm_data')\n",
    "\n",
    "\n",
    "folder_paths_system_states = [folder_path_slurm_data / path \n",
    "                              for path in ['system_states', 'system_states_int4', 'system_states_int5', '']]\n",
    "\n",
    "_ = [sorted(list(path.glob(\"*.txt\")))\n",
    "                            for path in folder_paths_system_states]\n",
    "all_files = [file for folder in _ for file in folder ]\n",
    "all_files"
   ]
  },
  {
   "cell_type": "code",
   "execution_count": 8,
   "metadata": {},
   "outputs": [],
   "source": [
    "\n",
    "# for file_path in files:\n",
    "def get_date_for_a_day(file_path):\n",
    "    dict_list = []\n",
    "    # open the text file\n",
    "    with file_path.open(mode='r') as f:\n",
    "        f_text = f.read()\n",
    "    # get the data in the text file in the form of a list, each element is a text that has the sinfo result in it\n",
    "    sinfo_day = f_text.split('############################')\n",
    "    for sinfo_sample in sinfo_day[1:]:\n",
    "        # split the sinfo result based on new lines\n",
    "        sinfo_sample = sinfo_sample.split('\\n')\n",
    "        # the fisrt line gives us the time\n",
    "        time = sinfo_sample[1]\n",
    "        # go through other lines and find the information that you need\n",
    "        for sample_row in sinfo_sample[3:-1]:\n",
    "            # the 7th column in a line is node number, we need this to repaeat the state for the node\n",
    "            node_number = int(sample_row.split()[7])\n",
    "            # the state is the 8th column\n",
    "            state = sample_row.split()[8]\n",
    "            # the last column is the node names\n",
    "            node_names = sample_row.split()[-1]\n",
    "            # we need to process node names, because they are in a starnge shape, we do so and put all the data in a dictionary\n",
    "            d1 = {'node':format_node_names(node_names).split(','), 'time': [time] * node_number, 'state': [state]*node_number}\n",
    "            # append it and go back and do this for the next line, if this was the last line then do it for the next element in the list.\n",
    "            dict_list.append(d1)\n",
    "            \n",
    "    # turn this each dictionary to a data frame\n",
    "    df_list = [pd.DataFrame(d1) for d1 in dict_list]\n",
    "    # concatenate them\n",
    "    df = pd.concat(df_list, axis=0)\n",
    "    # turn the time into pandas date time\n",
    "    df['time'] = pd.to_datetime(df['time'], errors='coerce')\n",
    "    df.sort_values(['node', 'time'], inplace=True)\n",
    "    return df\n",
    " \n",
    " \n"
   ]
  },
  {
   "cell_type": "code",
   "execution_count": 9,
   "metadata": {},
   "outputs": [],
   "source": [
    "start_time = time.time()\n",
    "with Pool(30) as pool:  \n",
    "    parallel_results = pool.map(get_date_for_a_day, all_files)  # Submit tasks\n",
    "parallel_duration = time.time() - start_time"
   ]
  },
  {
   "cell_type": "code",
   "execution_count": 10,
   "metadata": {},
   "outputs": [
    {
     "data": {
      "text/html": [
       "<div>\n",
       "<style scoped>\n",
       "    .dataframe tbody tr th:only-of-type {\n",
       "        vertical-align: middle;\n",
       "    }\n",
       "\n",
       "    .dataframe tbody tr th {\n",
       "        vertical-align: top;\n",
       "    }\n",
       "\n",
       "    .dataframe thead th {\n",
       "        text-align: right;\n",
       "    }\n",
       "</style>\n",
       "<table border=\"1\" class=\"dataframe\">\n",
       "  <thead>\n",
       "    <tr style=\"text-align: right;\">\n",
       "      <th></th>\n",
       "      <th>node</th>\n",
       "      <th>time</th>\n",
       "      <th>state</th>\n",
       "    </tr>\n",
       "  </thead>\n",
       "  <tbody>\n",
       "    <tr>\n",
       "      <th>0</th>\n",
       "      <td>fcn1</td>\n",
       "      <td>2025-02-07 05:25:48</td>\n",
       "      <td>idle</td>\n",
       "    </tr>\n",
       "    <tr>\n",
       "      <th>0</th>\n",
       "      <td>fcn1</td>\n",
       "      <td>2025-02-07 05:25:48</td>\n",
       "      <td>idle</td>\n",
       "    </tr>\n",
       "    <tr>\n",
       "      <th>0</th>\n",
       "      <td>fcn1</td>\n",
       "      <td>2025-02-07 05:28:49</td>\n",
       "      <td>idle</td>\n",
       "    </tr>\n",
       "    <tr>\n",
       "      <th>0</th>\n",
       "      <td>fcn1</td>\n",
       "      <td>2025-02-07 05:28:49</td>\n",
       "      <td>idle</td>\n",
       "    </tr>\n",
       "    <tr>\n",
       "      <th>0</th>\n",
       "      <td>fcn1</td>\n",
       "      <td>2025-02-07 05:31:49</td>\n",
       "      <td>idle</td>\n",
       "    </tr>\n",
       "  </tbody>\n",
       "</table>\n",
       "</div>"
      ],
      "text/plain": [
       "   node                time state\n",
       "0  fcn1 2025-02-07 05:25:48  idle\n",
       "0  fcn1 2025-02-07 05:25:48  idle\n",
       "0  fcn1 2025-02-07 05:28:49  idle\n",
       "0  fcn1 2025-02-07 05:28:49  idle\n",
       "0  fcn1 2025-02-07 05:31:49  idle"
      ]
     },
     "metadata": {},
     "output_type": "display_data"
    },
    {
     "data": {
      "text/plain": [
       "1117032"
      ]
     },
     "metadata": {},
     "output_type": "display_data"
    }
   ],
   "source": [
    "df = pd.concat(parallel_results, axis=0)\n",
    "df.sort_values(['node', 'time'], inplace=True)\n",
    "display(df.head(), len(df))"
   ]
  },
  {
   "cell_type": "code",
   "execution_count": 11,
   "metadata": {},
   "outputs": [
    {
     "name": "stdout",
     "output_type": "stream",
     "text": [
      "Numebr of duplicated rows based on node and time and state: 362096\n"
     ]
    }
   ],
   "source": [
    "print(f\"Numebr of duplicated rows based on node and time and state: {df.duplicated(['node', 'time', 'state']).sum()}\")\n",
    "# why is there duplication? It could be the way I am getting data?\n",
    "# or sinfo gives copy of the nodes in any case some of the \n",
    "# node and time are the same. \n",
    "# I think sinfo gives the states for some nodes twice in different partitions.\n",
    "\n",
    "# we drop the duplicated rows:\n",
    "df.drop_duplicates(subset=['node', 'time', 'state'], inplace=True)"
   ]
  },
  {
   "cell_type": "code",
   "execution_count": 12,
   "metadata": {},
   "outputs": [
    {
     "name": "stdout",
     "output_type": "stream",
     "text": [
      "Numebr of duplicated rows based on node and time: 0\n"
     ]
    },
    {
     "data": {
      "text/html": [
       "<div>\n",
       "<style scoped>\n",
       "    .dataframe tbody tr th:only-of-type {\n",
       "        vertical-align: middle;\n",
       "    }\n",
       "\n",
       "    .dataframe tbody tr th {\n",
       "        vertical-align: top;\n",
       "    }\n",
       "\n",
       "    .dataframe thead th {\n",
       "        text-align: right;\n",
       "    }\n",
       "</style>\n",
       "<table border=\"1\" class=\"dataframe\">\n",
       "  <thead>\n",
       "    <tr style=\"text-align: right;\">\n",
       "      <th></th>\n",
       "      <th>node</th>\n",
       "      <th>time</th>\n",
       "      <th>state</th>\n",
       "    </tr>\n",
       "  </thead>\n",
       "  <tbody>\n",
       "  </tbody>\n",
       "</table>\n",
       "</div>"
      ],
      "text/plain": [
       "Empty DataFrame\n",
       "Columns: [node, time, state]\n",
       "Index: []"
      ]
     },
     "metadata": {},
     "output_type": "display_data"
    },
    {
     "data": {
      "text/plain": [
       "Series([], Name: count, dtype: int64)"
      ]
     },
     "metadata": {},
     "output_type": "display_data"
    }
   ],
   "source": [
    "\"\"\"  \n",
    "Here we check for duplicaton in node and time. This is extremely rare and it means that\n",
    "a node at a specific time can have two states! This can happen because we are measuring the states with 1 second precision\n",
    "and through 3 login nodes. \n",
    "Is there any?\n",
    "\"\"\"\n",
    "print(f\"Numebr of duplicated rows based on node and time: {df.duplicated(['node', 'time']).sum()}\")\n",
    "\n",
    "# show a sample\n",
    "display(df[df.duplicated(['node', 'time'], keep=False)].head(n=10))\n",
    "display(df[df.duplicated(['node', 'time'], keep=False)]['node'].value_counts())"
   ]
  },
  {
   "cell_type": "code",
   "execution_count": 13,
   "metadata": {},
   "outputs": [
    {
     "data": {
      "text/html": [
       "<div>\n",
       "<style scoped>\n",
       "    .dataframe tbody tr th:only-of-type {\n",
       "        vertical-align: middle;\n",
       "    }\n",
       "\n",
       "    .dataframe tbody tr th {\n",
       "        vertical-align: top;\n",
       "    }\n",
       "\n",
       "    .dataframe thead th {\n",
       "        text-align: right;\n",
       "    }\n",
       "</style>\n",
       "<table border=\"1\" class=\"dataframe\">\n",
       "  <thead>\n",
       "    <tr style=\"text-align: right;\">\n",
       "      <th></th>\n",
       "      <th>node</th>\n",
       "      <th>time</th>\n",
       "      <th>state</th>\n",
       "    </tr>\n",
       "  </thead>\n",
       "  <tbody>\n",
       "    <tr>\n",
       "      <th>count</th>\n",
       "      <td>754936</td>\n",
       "      <td>754936</td>\n",
       "      <td>754936</td>\n",
       "    </tr>\n",
       "    <tr>\n",
       "      <th>unique</th>\n",
       "      <td>1547</td>\n",
       "      <td>NaN</td>\n",
       "      <td>14</td>\n",
       "    </tr>\n",
       "    <tr>\n",
       "      <th>top</th>\n",
       "      <td>tcn999</td>\n",
       "      <td>NaN</td>\n",
       "      <td>idle</td>\n",
       "    </tr>\n",
       "    <tr>\n",
       "      <th>freq</th>\n",
       "      <td>488</td>\n",
       "      <td>NaN</td>\n",
       "      <td>354383</td>\n",
       "    </tr>\n",
       "    <tr>\n",
       "      <th>mean</th>\n",
       "      <td>NaN</td>\n",
       "      <td>2025-02-07 17:36:45.024590592</td>\n",
       "      <td>NaN</td>\n",
       "    </tr>\n",
       "    <tr>\n",
       "      <th>min</th>\n",
       "      <td>NaN</td>\n",
       "      <td>2025-02-07 05:25:48</td>\n",
       "      <td>NaN</td>\n",
       "    </tr>\n",
       "    <tr>\n",
       "      <th>25%</th>\n",
       "      <td>NaN</td>\n",
       "      <td>2025-02-07 11:31:15</td>\n",
       "      <td>NaN</td>\n",
       "    </tr>\n",
       "    <tr>\n",
       "      <th>50%</th>\n",
       "      <td>NaN</td>\n",
       "      <td>2025-02-07 17:36:48</td>\n",
       "      <td>NaN</td>\n",
       "    </tr>\n",
       "    <tr>\n",
       "      <th>75%</th>\n",
       "      <td>NaN</td>\n",
       "      <td>2025-02-07 23:42:14</td>\n",
       "      <td>NaN</td>\n",
       "    </tr>\n",
       "    <tr>\n",
       "      <th>max</th>\n",
       "      <td>NaN</td>\n",
       "      <td>2025-02-08 05:47:38</td>\n",
       "      <td>NaN</td>\n",
       "    </tr>\n",
       "  </tbody>\n",
       "</table>\n",
       "</div>"
      ],
      "text/plain": [
       "          node                           time   state\n",
       "count   754936                         754936  754936\n",
       "unique    1547                            NaN      14\n",
       "top     tcn999                            NaN    idle\n",
       "freq       488                            NaN  354383\n",
       "mean       NaN  2025-02-07 17:36:45.024590592     NaN\n",
       "min        NaN            2025-02-07 05:25:48     NaN\n",
       "25%        NaN            2025-02-07 11:31:15     NaN\n",
       "50%        NaN            2025-02-07 17:36:48     NaN\n",
       "75%        NaN            2025-02-07 23:42:14     NaN\n",
       "max        NaN            2025-02-08 05:47:38     NaN"
      ]
     },
     "metadata": {},
     "output_type": "display_data"
    },
    {
     "data": {
      "text/plain": [
       "state\n",
       "idle          354383\n",
       "allocated     259158\n",
       "mixed         120482\n",
       "reserved        7232\n",
       "drained         5893\n",
       "planned         3316\n",
       "completing      1597\n",
       "down*           1184\n",
       "draining         846\n",
       "drained*         835\n",
       "mixed-             4\n",
       "idle*              3\n",
       "draining*          2\n",
       "mixed*             1\n",
       "Name: count, dtype: int64"
      ]
     },
     "metadata": {},
     "output_type": "display_data"
    }
   ],
   "source": [
    "\"\"\" \n",
    "It is not clear what to do with these samples. There are only a few instances.\n",
    "We keep the first occurence and delete others.\n",
    "\"\"\"\n",
    "df.drop_duplicates(subset=['node', 'time'], inplace=True)\n",
    "\n",
    "# give a description of the collected data. How many samples, how many states, nodes, minimum time maximum time ... \n",
    "display(df.describe(include='all'), df['state'].value_counts())"
   ]
  },
  {
   "cell_type": "code",
   "execution_count": 14,
   "metadata": {},
   "outputs": [
    {
     "data": {
      "text/html": [
       "<div>\n",
       "<style scoped>\n",
       "    .dataframe tbody tr th:only-of-type {\n",
       "        vertical-align: middle;\n",
       "    }\n",
       "\n",
       "    .dataframe tbody tr th {\n",
       "        vertical-align: top;\n",
       "    }\n",
       "\n",
       "    .dataframe thead th {\n",
       "        text-align: right;\n",
       "    }\n",
       "</style>\n",
       "<table border=\"1\" class=\"dataframe\">\n",
       "  <thead>\n",
       "    <tr style=\"text-align: right;\">\n",
       "      <th></th>\n",
       "      <th>time</th>\n",
       "    </tr>\n",
       "  </thead>\n",
       "  <tbody>\n",
       "    <tr>\n",
       "      <th>count</th>\n",
       "      <td>753389</td>\n",
       "    </tr>\n",
       "    <tr>\n",
       "      <th>mean</th>\n",
       "      <td>0 days 00:03:00.102669404</td>\n",
       "    </tr>\n",
       "    <tr>\n",
       "      <th>std</th>\n",
       "      <td>0 days 00:00:00.303526803</td>\n",
       "    </tr>\n",
       "    <tr>\n",
       "      <th>min</th>\n",
       "      <td>0 days 00:03:00</td>\n",
       "    </tr>\n",
       "    <tr>\n",
       "      <th>25%</th>\n",
       "      <td>0 days 00:03:00</td>\n",
       "    </tr>\n",
       "    <tr>\n",
       "      <th>50%</th>\n",
       "      <td>0 days 00:03:00</td>\n",
       "    </tr>\n",
       "    <tr>\n",
       "      <th>75%</th>\n",
       "      <td>0 days 00:03:00</td>\n",
       "    </tr>\n",
       "    <tr>\n",
       "      <th>99.96%</th>\n",
       "      <td>0 days 00:03:01</td>\n",
       "    </tr>\n",
       "    <tr>\n",
       "      <th>max</th>\n",
       "      <td>0 days 00:03:01</td>\n",
       "    </tr>\n",
       "  </tbody>\n",
       "</table>\n",
       "</div>"
      ],
      "text/plain": [
       "                             time\n",
       "count                      753389\n",
       "mean    0 days 00:03:00.102669404\n",
       "std     0 days 00:00:00.303526803\n",
       "min               0 days 00:03:00\n",
       "25%               0 days 00:03:00\n",
       "50%               0 days 00:03:00\n",
       "75%               0 days 00:03:00\n",
       "99.96%            0 days 00:03:01\n",
       "max               0 days 00:03:01"
      ]
     },
     "metadata": {},
     "output_type": "display_data"
    },
    {
     "data": {
      "text/plain": [
       "' \\nThe statistic for Delta t shows that a large portion of the measurements have time differnce less than 3 minutes.\\nBut it seems that at some point in our measurment process we did not record states for some nodes for around 2 hours.\\nThis could our measurement faults or even the case that a specific nodes did not appear in the sinfo.\\nWhat are those nodes? are they srv nodes?==> No idea\\n'"
      ]
     },
     "execution_count": 14,
     "metadata": {},
     "output_type": "execute_result"
    }
   ],
   "source": [
    "\"\"\" \n",
    "Are we measuring the data regularly? No\n",
    "Here we compute the time difference for our measeruments node specific. \n",
    "\n",
    "state(node=node1, time=t2) - state(node=node1, time=t1) = Delta t \n",
    "\n",
    "\n",
    "what is the max and min for Delta t?\n",
    "Is this acceptable? or no it makes the analysis difficult?\n",
    "\"\"\"\n",
    "\n",
    "display(df.groupby(['node'], as_index=False)[['time']].diff().describe(percentiles=[0.25, 0.5, 0.75, 0.9996]))\n",
    "\n",
    "\"\"\" \n",
    "The statistic for Delta t shows that a large portion of the measurements have time differnce less than 3 minutes.\n",
    "But it seems that at some point in our measurment process we did not record states for some nodes for around 2 hours.\n",
    "This could our measurement faults or even the case that a specific nodes did not appear in the sinfo.\n",
    "What are those nodes? are they srv nodes?==> No idea\n",
    "\"\"\""
   ]
  },
  {
   "cell_type": "code",
   "execution_count": 15,
   "metadata": {},
   "outputs": [
    {
     "data": {
      "text/plain": [
       "time           \n",
       "0 days 00:03:00    676039\n",
       "0 days 00:03:01     77350\n",
       "Name: count, dtype: int64"
      ]
     },
     "execution_count": 15,
     "metadata": {},
     "output_type": "execute_result"
    }
   ],
   "source": [
    "\"\"\"  \n",
    "How many times do we have this long pauses in the measurements?\n",
    "\"\"\"\n",
    "df_delta_counts = df.groupby(['node'], as_index=False)[['time']].diff().value_counts()\n",
    "df_delta_counts.sort_index().tail(n=20)"
   ]
  },
  {
   "cell_type": "code",
   "execution_count": 16,
   "metadata": {},
   "outputs": [],
   "source": [
    "# save the data a and go to EDA notebook for further analysis\n",
    "time_formated = pd.Timestamp(time.time(), unit='s').strftime('%Y-%m-%d')\n",
    "# df.to_parquet(folder_path_slurm_data/f\"sinfo_cleaned_{time_formated}.parquet.gzip\", compression='gzip')"
   ]
  }
 ],
 "metadata": {
  "kernelspec": {
   "display_name": "Python 3 (ipykernel)",
   "language": "python",
   "name": "python3"
  },
  "language_info": {
   "codemirror_mode": {
    "name": "ipython",
    "version": 3
   },
   "file_extension": ".py",
   "mimetype": "text/x-python",
   "name": "python",
   "nbconvert_exporter": "python",
   "pygments_lexer": "ipython3",
   "version": "3.9.18"
  }
 },
 "nbformat": 4,
 "nbformat_minor": 2
}
