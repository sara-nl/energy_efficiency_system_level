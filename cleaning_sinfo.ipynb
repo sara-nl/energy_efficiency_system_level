{
 "cells": [
  {
   "cell_type": "markdown",
   "metadata": {},
   "source": [
    "This notebook analyzes logs from SLURM's sinfo outputs. The logs are collected over time from multiple login nodes, and the goal is to:\n",
    "- Parse sinfo logs from .txt files into structured Pandas DataFrames\n",
    "- Build a time series of node-level states (IDLE, ALLOCATED, DRAIN, etc.)\n",
    "- Aggregate and clean the data for downstream analysis or visualization\n",
    "- Cleans duplicates and identifies rare conflicting entries (e.g., a node with two states at the same time)"
   ]
  },
  {
   "cell_type": "code",
   "execution_count": 1,
   "metadata": {},
   "outputs": [],
   "source": [
    "import pandas as pd\n",
    "from pathlib import Path\n",
    "import matplotlib.pyplot as plt\n",
    "import seaborn as sns\n",
    "import numpy as np\n",
    "from multiprocessing import Pool\n",
    "import time\n",
    "from utils import format_node_names\n",
    "\n",
    "pd.set_option('display.max_columns', None)\n",
    "pd.set_option('display.max_rows', None)\n",
    "pd.options.display.precision = 4 # show 4 digits precision"
   ]
  },
  {
   "cell_type": "code",
   "execution_count": 2,
   "metadata": {},
   "outputs": [
    {
     "data": {
      "text/plain": [
       "[PosixPath('/projects/2/prjs1098/system_analytics_2024/slurm_data/system_states_90.txt')]"
      ]
     },
     "execution_count": 2,
     "metadata": {},
     "output_type": "execute_result"
    }
   ],
   "source": [
    "#set paths\n",
    "folder_path_slurm_data = Path('/projects/2/prjs1098/system_analytics_2024/slurm_data')\n",
    "\n",
    "folder_paths_system_states = [folder_path_slurm_data / path \n",
    "                              for path in ['system_states', 'system_states_int4', 'system_states_int5', '']]\n",
    "\n",
    "_ = [sorted(list(path.glob(\"*.txt\")))\n",
    "                            for path in folder_paths_system_states]\n",
    "all_files = [file for folder in _ for file in folder ]\n",
    "all_files"
   ]
  },
  {
   "cell_type": "code",
   "execution_count": 3,
   "metadata": {},
   "outputs": [],
   "source": [
    "def get_date_for_a_day(file_path):\n",
    "    \"\"\"\n",
    "    Parses a SLURM sinfo log file for one day and returns a DataFrame\n",
    "    with node state transitions over time.\n",
    "\n",
    "    Parameters:\n",
    "        file_path (Path): Path to the .txt file containing one day's worth of sinfo snapshots.\n",
    "\n",
    "    Returns:\n",
    "        pd.DataFrame: A dataframe with columns ['node', 'time', 'state'] where each row \n",
    "                      corresponds to a node state at a particular timestamp.\n",
    "    \"\"\"\n",
    "\n",
    "    dict_list = []\n",
    "\n",
    "    # Open and read the full contents of the file\n",
    "    with file_path.open(mode='r') as f:\n",
    "        f_text = f.read()\n",
    "\n",
    "    # Split the file into multiple 'sinfo' samples using separator line\n",
    "    sinfo_day = f_text.split('############################')\n",
    "\n",
    "    # Skip the first chunk (likely empty or metadata), iterate through each sinfo snapshot\n",
    "    for sinfo_sample in sinfo_day[1:]:\n",
    "        sinfo_sample = sinfo_sample.split('\\n')\n",
    "        \n",
    "        # the fisrt line gives us the time\n",
    "        time = sinfo_sample[1]\n",
    "        \n",
    "        # go through other lines and find the information that you need\n",
    "        for sample_row in sinfo_sample[3:-1]:\n",
    "\n",
    "            # extract node number\n",
    "            node_number = int(sample_row.split()[7])\n",
    "\n",
    "            # Extract the state of the node group\n",
    "            state = sample_row.split()[8]\n",
    "\n",
    "            # Extract the node name(s), possibly compressed (e.g., `node[001-004]`)\n",
    "            node_names = sample_row.split()[-1]\n",
    "\n",
    "            # Expand node name ranges using helper function\n",
    "            node_list = format_node_names(node_names).split(',')\n",
    "            d1 = {\n",
    "                'node': node_list,\n",
    "                'time': [time] * node_number,\n",
    "                'state': [state] * node_number\n",
    "            }\n",
    "            dict_list.append(d1)\n",
    "            \n",
    "    # turn this each dictionary to a data frame and concatenate all\n",
    "    df_list = [pd.DataFrame(d1) for d1 in dict_list]\n",
    "    df = pd.concat(df_list, axis=0)\n",
    "\n",
    "    # turn the time into pandas date time\n",
    "    df['time'] = pd.to_datetime(df['time'], errors='coerce')\n",
    "\n",
    "    # Sort the result by node and time\n",
    "    df.sort_values(['node', 'time'], inplace=True)\n",
    "    return df\n"
   ]
  },
  {
   "cell_type": "code",
   "execution_count": 4,
   "metadata": {},
   "outputs": [],
   "source": [
    "# this is to parallelize the parsing of the .txt files from Slurm logs\n",
    "start_time = time.time()\n",
    "with Pool(30) as pool:  \n",
    "    parallel_results = pool.map(get_date_for_a_day, all_files)  # Submit tasks\n",
    "parallel_duration = time.time() - start_time"
   ]
  },
  {
   "cell_type": "code",
   "execution_count": 5,
   "metadata": {},
   "outputs": [
    {
     "data": {
      "text/html": [
       "<div>\n",
       "<style scoped>\n",
       "    .dataframe tbody tr th:only-of-type {\n",
       "        vertical-align: middle;\n",
       "    }\n",
       "\n",
       "    .dataframe tbody tr th {\n",
       "        vertical-align: top;\n",
       "    }\n",
       "\n",
       "    .dataframe thead th {\n",
       "        text-align: right;\n",
       "    }\n",
       "</style>\n",
       "<table border=\"1\" class=\"dataframe\">\n",
       "  <thead>\n",
       "    <tr style=\"text-align: right;\">\n",
       "      <th></th>\n",
       "      <th>node</th>\n",
       "      <th>time</th>\n",
       "      <th>state</th>\n",
       "    </tr>\n",
       "  </thead>\n",
       "  <tbody>\n",
       "    <tr>\n",
       "      <th>0</th>\n",
       "      <td>fcn1</td>\n",
       "      <td>2025-02-07 05:25:48</td>\n",
       "      <td>idle</td>\n",
       "    </tr>\n",
       "    <tr>\n",
       "      <th>0</th>\n",
       "      <td>fcn1</td>\n",
       "      <td>2025-02-07 05:25:48</td>\n",
       "      <td>idle</td>\n",
       "    </tr>\n",
       "    <tr>\n",
       "      <th>0</th>\n",
       "      <td>fcn1</td>\n",
       "      <td>2025-02-07 05:28:49</td>\n",
       "      <td>idle</td>\n",
       "    </tr>\n",
       "    <tr>\n",
       "      <th>0</th>\n",
       "      <td>fcn1</td>\n",
       "      <td>2025-02-07 05:28:49</td>\n",
       "      <td>idle</td>\n",
       "    </tr>\n",
       "    <tr>\n",
       "      <th>0</th>\n",
       "      <td>fcn1</td>\n",
       "      <td>2025-02-07 05:31:49</td>\n",
       "      <td>idle</td>\n",
       "    </tr>\n",
       "  </tbody>\n",
       "</table>\n",
       "</div>"
      ],
      "text/plain": [
       "   node                time state\n",
       "0  fcn1 2025-02-07 05:25:48  idle\n",
       "0  fcn1 2025-02-07 05:25:48  idle\n",
       "0  fcn1 2025-02-07 05:28:49  idle\n",
       "0  fcn1 2025-02-07 05:28:49  idle\n",
       "0  fcn1 2025-02-07 05:31:49  idle"
      ]
     },
     "metadata": {},
     "output_type": "display_data"
    },
    {
     "data": {
      "text/plain": [
       "1117032"
      ]
     },
     "metadata": {},
     "output_type": "display_data"
    }
   ],
   "source": [
    "# display the dataframe. From slurm logs i get: node, time, state\n",
    "df = pd.concat(parallel_results, axis=0)\n",
    "df.sort_values(['node', 'time'], inplace=True)\n",
    "display(df.head(), len(df))"
   ]
  },
  {
   "cell_type": "code",
   "execution_count": 6,
   "metadata": {},
   "outputs": [
    {
     "name": "stdout",
     "output_type": "stream",
     "text": [
      "Total rows: 1117032\n",
      "Number of duplicated rows (node, time, state): 362096\n",
      "Percentage duplicated: 32.42%\n"
     ]
    }
   ],
   "source": [
    "# check for duplicated rows\n",
    "df[df.duplicated(['node', 'time', 'state'], keep=False)].sort_values(['node', 'time']).head(10)\n",
    "\n",
    "total_rows = len(df)\n",
    "num_duplicates = df.duplicated(['node', 'time', 'state']).sum()\n",
    "\n",
    "print(f\"Total rows: {total_rows}\")\n",
    "print(f\"Number of duplicated rows (node, time, state): {num_duplicates}\")\n",
    "print(f\"Percentage duplicated: {100 * num_duplicates / total_rows:.2f}%\")"
   ]
  },
  {
   "cell_type": "code",
   "execution_count": 7,
   "metadata": {},
   "outputs": [],
   "source": [
    "# drop duplicates\n",
    "df.drop_duplicates(subset=['node', 'time', 'state'], inplace=True)"
   ]
  },
  {
   "cell_type": "code",
   "execution_count": 8,
   "metadata": {},
   "outputs": [
    {
     "name": "stdout",
     "output_type": "stream",
     "text": [
      "Number of duplicated rows based on node and time: 0\n"
     ]
    },
    {
     "data": {
      "text/html": [
       "<div>\n",
       "<style scoped>\n",
       "    .dataframe tbody tr th:only-of-type {\n",
       "        vertical-align: middle;\n",
       "    }\n",
       "\n",
       "    .dataframe tbody tr th {\n",
       "        vertical-align: top;\n",
       "    }\n",
       "\n",
       "    .dataframe thead th {\n",
       "        text-align: right;\n",
       "    }\n",
       "</style>\n",
       "<table border=\"1\" class=\"dataframe\">\n",
       "  <thead>\n",
       "    <tr style=\"text-align: right;\">\n",
       "      <th></th>\n",
       "      <th>node</th>\n",
       "      <th>time</th>\n",
       "      <th>state</th>\n",
       "    </tr>\n",
       "  </thead>\n",
       "  <tbody>\n",
       "  </tbody>\n",
       "</table>\n",
       "</div>"
      ],
      "text/plain": [
       "Empty DataFrame\n",
       "Columns: [node, time, state]\n",
       "Index: []"
      ]
     },
     "metadata": {},
     "output_type": "display_data"
    },
    {
     "data": {
      "text/plain": [
       "Series([], Name: count, dtype: int64)"
      ]
     },
     "metadata": {},
     "output_type": "display_data"
    }
   ],
   "source": [
    "\"\"\"  \n",
    "Here we check for duplicaton in node and time. This is extremely rare and it means that\n",
    "a node at a specific time can have two states! This can happen because we are measuring the states with 1 second precision\n",
    "and through 3 login nodes. \n",
    "Is there any?\n",
    "\"\"\"\n",
    "print(f\"Number of duplicated rows based on node and time: {df.duplicated(['node', 'time']).sum()}\")\n",
    "\n",
    "# show a sample\n",
    "display(df[df.duplicated(['node', 'time'], keep=False)].head(n=10))\n",
    "display(df[df.duplicated(['node', 'time'], keep=False)]['node'].value_counts())"
   ]
  },
  {
   "cell_type": "code",
   "execution_count": 9,
   "metadata": {},
   "outputs": [],
   "source": [
    "# drop duplicates: We keep the first occurence and delete others.\n",
    "df.drop_duplicates(subset=['node', 'time'], inplace=True)"
   ]
  },
  {
   "cell_type": "code",
   "execution_count": 10,
   "metadata": {},
   "outputs": [
    {
     "data": {
      "text/html": [
       "<div>\n",
       "<style scoped>\n",
       "    .dataframe tbody tr th:only-of-type {\n",
       "        vertical-align: middle;\n",
       "    }\n",
       "\n",
       "    .dataframe tbody tr th {\n",
       "        vertical-align: top;\n",
       "    }\n",
       "\n",
       "    .dataframe thead th {\n",
       "        text-align: right;\n",
       "    }\n",
       "</style>\n",
       "<table border=\"1\" class=\"dataframe\">\n",
       "  <thead>\n",
       "    <tr style=\"text-align: right;\">\n",
       "      <th></th>\n",
       "      <th>node</th>\n",
       "      <th>time</th>\n",
       "      <th>state</th>\n",
       "    </tr>\n",
       "  </thead>\n",
       "  <tbody>\n",
       "    <tr>\n",
       "      <th>count</th>\n",
       "      <td>754936</td>\n",
       "      <td>754936</td>\n",
       "      <td>754936</td>\n",
       "    </tr>\n",
       "    <tr>\n",
       "      <th>unique</th>\n",
       "      <td>1547</td>\n",
       "      <td>NaN</td>\n",
       "      <td>14</td>\n",
       "    </tr>\n",
       "    <tr>\n",
       "      <th>top</th>\n",
       "      <td>fcn1</td>\n",
       "      <td>NaN</td>\n",
       "      <td>idle</td>\n",
       "    </tr>\n",
       "    <tr>\n",
       "      <th>freq</th>\n",
       "      <td>488</td>\n",
       "      <td>NaN</td>\n",
       "      <td>354383</td>\n",
       "    </tr>\n",
       "    <tr>\n",
       "      <th>mean</th>\n",
       "      <td>NaN</td>\n",
       "      <td>2025-02-07 17:36:45.024590592</td>\n",
       "      <td>NaN</td>\n",
       "    </tr>\n",
       "    <tr>\n",
       "      <th>min</th>\n",
       "      <td>NaN</td>\n",
       "      <td>2025-02-07 05:25:48</td>\n",
       "      <td>NaN</td>\n",
       "    </tr>\n",
       "    <tr>\n",
       "      <th>25%</th>\n",
       "      <td>NaN</td>\n",
       "      <td>2025-02-07 11:31:15</td>\n",
       "      <td>NaN</td>\n",
       "    </tr>\n",
       "    <tr>\n",
       "      <th>50%</th>\n",
       "      <td>NaN</td>\n",
       "      <td>2025-02-07 17:36:48</td>\n",
       "      <td>NaN</td>\n",
       "    </tr>\n",
       "    <tr>\n",
       "      <th>75%</th>\n",
       "      <td>NaN</td>\n",
       "      <td>2025-02-07 23:42:14</td>\n",
       "      <td>NaN</td>\n",
       "    </tr>\n",
       "    <tr>\n",
       "      <th>max</th>\n",
       "      <td>NaN</td>\n",
       "      <td>2025-02-08 05:47:38</td>\n",
       "      <td>NaN</td>\n",
       "    </tr>\n",
       "  </tbody>\n",
       "</table>\n",
       "</div>"
      ],
      "text/plain": [
       "          node                           time   state\n",
       "count   754936                         754936  754936\n",
       "unique    1547                            NaN      14\n",
       "top       fcn1                            NaN    idle\n",
       "freq       488                            NaN  354383\n",
       "mean       NaN  2025-02-07 17:36:45.024590592     NaN\n",
       "min        NaN            2025-02-07 05:25:48     NaN\n",
       "25%        NaN            2025-02-07 11:31:15     NaN\n",
       "50%        NaN            2025-02-07 17:36:48     NaN\n",
       "75%        NaN            2025-02-07 23:42:14     NaN\n",
       "max        NaN            2025-02-08 05:47:38     NaN"
      ]
     },
     "metadata": {},
     "output_type": "display_data"
    },
    {
     "data": {
      "text/plain": [
       "state\n",
       "idle          354383\n",
       "allocated     259158\n",
       "mixed         120482\n",
       "reserved        7232\n",
       "drained         5893\n",
       "planned         3316\n",
       "completing      1597\n",
       "down*           1184\n",
       "draining         846\n",
       "drained*         835\n",
       "mixed-             4\n",
       "idle*              3\n",
       "draining*          2\n",
       "mixed*             1\n",
       "Name: count, dtype: int64"
      ]
     },
     "metadata": {},
     "output_type": "display_data"
    }
   ],
   "source": [
    "\"\"\" \n",
    "give a description of the collected data. \n",
    "How many samples, how many states, nodes, minimum time maximum time ... \n",
    "\"\"\"\n",
    "display(df.describe(include='all'), df['state'].value_counts())"
   ]
  },
  {
   "cell_type": "code",
   "execution_count": 10,
   "metadata": {},
   "outputs": [
    {
     "data": {
      "text/html": [
       "<div>\n",
       "<style scoped>\n",
       "    .dataframe tbody tr th:only-of-type {\n",
       "        vertical-align: middle;\n",
       "    }\n",
       "\n",
       "    .dataframe tbody tr th {\n",
       "        vertical-align: top;\n",
       "    }\n",
       "\n",
       "    .dataframe thead th {\n",
       "        text-align: right;\n",
       "    }\n",
       "</style>\n",
       "<table border=\"1\" class=\"dataframe\">\n",
       "  <thead>\n",
       "    <tr style=\"text-align: right;\">\n",
       "      <th></th>\n",
       "      <th>time</th>\n",
       "    </tr>\n",
       "  </thead>\n",
       "  <tbody>\n",
       "    <tr>\n",
       "      <th>count</th>\n",
       "      <td>753389</td>\n",
       "    </tr>\n",
       "    <tr>\n",
       "      <th>mean</th>\n",
       "      <td>0 days 00:03:00.102669404</td>\n",
       "    </tr>\n",
       "    <tr>\n",
       "      <th>std</th>\n",
       "      <td>0 days 00:00:00.303526803</td>\n",
       "    </tr>\n",
       "    <tr>\n",
       "      <th>min</th>\n",
       "      <td>0 days 00:03:00</td>\n",
       "    </tr>\n",
       "    <tr>\n",
       "      <th>25%</th>\n",
       "      <td>0 days 00:03:00</td>\n",
       "    </tr>\n",
       "    <tr>\n",
       "      <th>50%</th>\n",
       "      <td>0 days 00:03:00</td>\n",
       "    </tr>\n",
       "    <tr>\n",
       "      <th>75%</th>\n",
       "      <td>0 days 00:03:00</td>\n",
       "    </tr>\n",
       "    <tr>\n",
       "      <th>99.96%</th>\n",
       "      <td>0 days 00:03:01</td>\n",
       "    </tr>\n",
       "    <tr>\n",
       "      <th>max</th>\n",
       "      <td>0 days 00:03:01</td>\n",
       "    </tr>\n",
       "  </tbody>\n",
       "</table>\n",
       "</div>"
      ],
      "text/plain": [
       "                             time\n",
       "count                      753389\n",
       "mean    0 days 00:03:00.102669404\n",
       "std     0 days 00:00:00.303526803\n",
       "min               0 days 00:03:00\n",
       "25%               0 days 00:03:00\n",
       "50%               0 days 00:03:00\n",
       "75%               0 days 00:03:00\n",
       "99.96%            0 days 00:03:01\n",
       "max               0 days 00:03:01"
      ]
     },
     "metadata": {},
     "output_type": "display_data"
    },
    {
     "data": {
      "text/plain": [
       "' \\nThe statistic for Delta t shows that a large portion of the measurements have time differnce less than 3 minutes.\\nBut it seems that at some point in our measurment process we did not record states for some nodes for around 2 hours.\\nThis could our measurement faults or even the case that a specific nodes did not appear in the sinfo.\\nWhat are those nodes? are they srv nodes?==> No idea\\n'"
      ]
     },
     "execution_count": 10,
     "metadata": {},
     "output_type": "execute_result"
    }
   ],
   "source": [
    "\"\"\" \n",
    "Are we measuring the data regularly? No\n",
    "Here we compute the time difference for our measeruments node specific. \n",
    "\n",
    "state(node=node1, time=t2) - state(node=node1, time=t1) = Delta t \n",
    "\n",
    "\n",
    "what is the max and min for Delta t?\n",
    "Is this acceptable? or no it makes the analysis difficult?\n",
    "\"\"\"\n",
    "\n",
    "display(df.groupby(['node'], as_index=False)[['time']].diff().describe(percentiles=[0.25, 0.5, 0.75, 0.9996]))\n",
    "\n",
    "\"\"\" \n",
    "The statistic for Delta t shows that a large portion of the measurements have time differnce less than 3 minutes.\n",
    "But it seems that at some point in our measurment process we did not record states for some nodes for around 2 hours.\n",
    "This could our measurement faults or even the case that a specific nodes did not appear in the sinfo.\n",
    "What are those nodes? are they srv nodes?==> No idea\n",
    "\"\"\""
   ]
  },
  {
   "cell_type": "code",
   "execution_count": 11,
   "metadata": {},
   "outputs": [
    {
     "data": {
      "text/plain": [
       "time           \n",
       "0 days 00:03:00    676039\n",
       "0 days 00:03:01     77350\n",
       "Name: count, dtype: int64"
      ]
     },
     "execution_count": 11,
     "metadata": {},
     "output_type": "execute_result"
    }
   ],
   "source": [
    "\"\"\"  \n",
    "How many times do we have this long pauses in the measurements?\n",
    "\"\"\"\n",
    "df_delta_counts = df.groupby(['node'], as_index=False)[['time']].diff().value_counts()\n",
    "df_delta_counts.sort_index().tail(n=20)"
   ]
  },
  {
   "cell_type": "code",
   "execution_count": 12,
   "metadata": {},
   "outputs": [],
   "source": [
    "# save the data a and go to EDA notebook for further analysis\n",
    "time_formated = pd.Timestamp(time.time(), unit='s').strftime('%Y-%m-%d')\n",
    "# df.to_parquet(folder_path_slurm_data/f\"sinfo_cleaned_{time_formated}.parquet.gzip\", compression='gzip')"
   ]
  }
 ],
 "metadata": {
  "kernelspec": {
   "display_name": "Python 3.12.3 ('ops': venv)",
   "language": "python",
   "name": "python3"
  },
  "language_info": {
   "codemirror_mode": {
    "name": "ipython",
    "version": 3
   },
   "file_extension": ".py",
   "mimetype": "text/x-python",
   "name": "python",
   "nbconvert_exporter": "python",
   "pygments_lexer": "ipython3",
   "version": "3.12.3"
  },
  "vscode": {
   "interpreter": {
    "hash": "3b72fc9d8ddd90f02bed5400b0dfc96d1065df77d042849ffe2b35f80fb02410"
   }
  }
 },
 "nbformat": 4,
 "nbformat_minor": 2
}
